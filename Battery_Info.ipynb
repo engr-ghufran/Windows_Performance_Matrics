{
 "cells": [
  {
   "cell_type": "code",
   "execution_count": 1,
   "id": "6b668244",
   "metadata": {},
   "outputs": [
    {
     "name": "stdout",
     "output_type": "stream",
     "text": [
      "Battery Percent:  68\n",
      "Connected to charger :  False\n",
      "Battery remaining :  4:35:11\n",
      "Battery Percent:  68\n",
      "Connected to charger :  False\n",
      "Battery remaining :  4:35:11\n",
      "Battery Percent:  68\n",
      "Connected to charger :  False\n",
      "Battery remaining :  4:35:11\n",
      "Battery Percent:  68\n",
      "Connected to charger :  False\n",
      "Battery remaining :  4:35:11\n"
     ]
    },
    {
     "ename": "KeyboardInterrupt",
     "evalue": "",
     "output_type": "error",
     "traceback": [
      "\u001b[1;31m---------------------------------------------------------------------------\u001b[0m",
      "\u001b[1;31mKeyboardInterrupt\u001b[0m                         Traceback (most recent call last)",
      "\u001b[1;32m~\\AppData\\Local\\Temp\\ipykernel_3448\\681057205.py\u001b[0m in \u001b[0;36m<module>\u001b[1;34m\u001b[0m\n\u001b[0;32m     23\u001b[0m \u001b[1;33m\u001b[0m\u001b[0m\n\u001b[0;32m     24\u001b[0m     \u001b[0mprint\u001b[0m\u001b[1;33m(\u001b[0m\u001b[1;34m\"Battery remaining : \"\u001b[0m\u001b[1;33m,\u001b[0m \u001b[0mconvertTime\u001b[0m\u001b[1;33m(\u001b[0m\u001b[0mbattery\u001b[0m\u001b[1;33m.\u001b[0m\u001b[0msecsleft\u001b[0m\u001b[1;33m)\u001b[0m\u001b[1;33m)\u001b[0m\u001b[1;33m\u001b[0m\u001b[1;33m\u001b[0m\u001b[0m\n\u001b[1;32m---> 25\u001b[1;33m     \u001b[0mtime\u001b[0m\u001b[1;33m.\u001b[0m\u001b[0msleep\u001b[0m\u001b[1;33m(\u001b[0m\u001b[1;36m10\u001b[0m\u001b[1;33m)\u001b[0m\u001b[1;33m\u001b[0m\u001b[1;33m\u001b[0m\u001b[0m\n\u001b[0m",
      "\u001b[1;31mKeyboardInterrupt\u001b[0m: "
     ]
    }
   ],
   "source": [
    "import time\n",
    "import psutil\n",
    "\n",
    "## Define a function \n",
    "def convertTime(seconds):\n",
    "     minutes, seconds = divmod(seconds, 60)\n",
    "\n",
    "     hours, minutes = divmod(minutes, 60)\n",
    "\n",
    "     return \"%d:%02d:%02d\" % (hours, minutes, seconds)\n",
    "\n",
    "battery = psutil.sensors_battery()\n",
    "\n",
    "while True:\n",
    "    print(\"Battery Percent: \", battery.percent)\n",
    "\n",
    "    print(\"Connected to charger : \", battery.power_plugged)\n",
    "\n",
    "    print(\"Battery remaining : \", convertTime(battery.secsleft))\n",
    "    time.sleep(10)"
   ]
  },
  {
   "cell_type": "code",
   "execution_count": null,
   "id": "75fb4cc2",
   "metadata": {},
   "outputs": [],
   "source": []
  }
 ],
 "metadata": {
  "kernelspec": {
   "display_name": "Python 3 (ipykernel)",
   "language": "python",
   "name": "python3"
  },
  "language_info": {
   "codemirror_mode": {
    "name": "ipython",
    "version": 3
   },
   "file_extension": ".py",
   "mimetype": "text/x-python",
   "name": "python",
   "nbconvert_exporter": "python",
   "pygments_lexer": "ipython3",
   "version": "3.9.13"
  }
 },
 "nbformat": 4,
 "nbformat_minor": 5
}
