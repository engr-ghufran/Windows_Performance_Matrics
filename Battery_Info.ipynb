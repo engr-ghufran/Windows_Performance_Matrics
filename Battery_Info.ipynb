{
 "cells": [
  {
   "cell_type": "code",
   "execution_count": 1,
   "id": "0c94318d",
   "metadata": {},
   "outputs": [
    {
     "name": "stdout",
     "output_type": "stream",
     "text": [
      "Battery Percent:  66\n",
      "Connected to charger :  False\n",
      "Battery remaining :  4:23:54\n",
      "loop finished\n"
     ]
    }
   ],
   "source": [
    "import time\n",
    "import psutil\n",
    "\n",
    "## Define a function \n",
    "def convertTime(seconds):\n",
    "     minutes, seconds = divmod(seconds, 60)\n",
    "\n",
    "     hours, minutes = divmod(minutes, 60)\n",
    "\n",
    "     return \"%d:%02d:%02d\" % (hours, minutes, seconds)\n",
    "\n",
    "battery = psutil.sensors_battery()\n",
    "\n",
    "while True:\n",
    "    print(\"Battery Percent: \", battery.percent)\n",
    "\n",
    "    print(\"Connected to charger : \", battery.power_plugged)\n",
    "\n",
    "    print(\"Battery remaining : \", convertTime(battery.secsleft))\n",
    "    \n",
    "    ##if want to get continouse real time data include the \"time.sleep()\" and ignore the later code\n",
    "    ##time.sleep(10)\n",
    "    if battery.percent>60:\n",
    "        break\n",
    "        \n",
    "print(\"loop finished\")"
   ]
  },
  {
   "cell_type": "code",
   "execution_count": null,
   "id": "e0cc7a7d",
   "metadata": {},
   "outputs": [],
   "source": []
  }
 ],
 "metadata": {
  "kernelspec": {
   "display_name": "Python 3 (ipykernel)",
   "language": "python",
   "name": "python3"
  },
  "language_info": {
   "codemirror_mode": {
    "name": "ipython",
    "version": 3
   },
   "file_extension": ".py",
   "mimetype": "text/x-python",
   "name": "python",
   "nbconvert_exporter": "python",
   "pygments_lexer": "ipython3",
   "version": "3.9.13"
  }
 },
 "nbformat": 4,
 "nbformat_minor": 5
}
