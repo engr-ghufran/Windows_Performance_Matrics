{
 "cells": [
  {
   "cell_type": "code",
   "execution_count": null,
   "id": "4d7fd046",
   "metadata": {},
   "outputs": [],
   "source": [
    " ##To show the CPU and Ram usage and analyse it as bars\n",
    "import time\n",
    "import psutil\n",
    "\n",
    "## Define a function \n",
    "def display_usage(cpu_usage,mem_usage,bars=50):\n",
    "\n",
    "    cpu_percent = (cpu_usage/100.0)   ## Get the CPU consumption\n",
    "    cpu_bar = '▉' * int(cpu_percent*bars) + '-' * (bars - int(cpu_percent*bars)) ## Conversion in Bars \n",
    "    \n",
    "    mem_percent = (mem_usage/100.0)   ## Get the Ram Consumption   \n",
    "    mem_bar = '▉' * int(mem_percent*bars) + '-' * (bars - int(mem_percent*bars)) ## Conversion in bars\n",
    "    \n",
    "    print(f\"\\r CPU Usage: | |{cpu_bar}| {cpu_usage:.2f}%\",end=\"\") \n",
    "    print(f\" Mem Usage: | |{mem_bar}| {mem_usage:.2f}%\",end=\"\\r\")\n",
    "    \n",
    "while True:\n",
    "    display_usage(psutil.cpu_percent(), psutil.virtual_memory().percent,30)\n",
    "    \n",
    "    time.sleep(0.5) ## 0.5 define the time interval between the two data "
   ]
  },
  {
   "cell_type": "code",
   "execution_count": null,
   "id": "93652ee1",
   "metadata": {},
   "outputs": [],
   "source": [
    "## To show the CPU and Ram usage as a data \n",
    "A = (psutil.cpu_percent())\n",
    "B = (psutil.virtual_memory().percent)\n",
    "while True:\n",
    "    print(\"CPU_Usage= \", A, \"Memory_Usage= \", B)\n",
    "\n",
    "    time.sleep(0.5)\n"
   ]
  },
  {
   "cell_type": "code",
   "execution_count": null,
   "id": "457b2d34",
   "metadata": {},
   "outputs": [],
   "source": []
  }
 ],
 "metadata": {
  "kernelspec": {
   "display_name": "Python 3 (ipykernel)",
   "language": "python",
   "name": "python3"
  },
  "language_info": {
   "codemirror_mode": {
    "name": "ipython",
    "version": 3
   },
   "file_extension": ".py",
   "mimetype": "text/x-python",
   "name": "python",
   "nbconvert_exporter": "python",
   "pygments_lexer": "ipython3",
   "version": "3.9.13"
  }
 },
 "nbformat": 4,
 "nbformat_minor": 5
}
